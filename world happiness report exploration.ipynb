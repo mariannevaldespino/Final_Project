{
 "cells": [
  {
   "cell_type": "markdown",
   "id": "0942a2e1",
   "metadata": {},
   "source": [
    "Step 1: Explore the Data!"
   ]
  },
  {
   "cell_type": "code",
   "execution_count": null,
   "id": "f9814d68",
   "metadata": {},
   "outputs": [],
   "source": [
    "df=read_csv()"
   ]
  },
  {
   "cell_type": "code",
   "execution_count": null,
   "id": "ed8f0b24",
   "metadata": {},
   "outputs": [],
   "source": [
    "df.describe()"
   ]
  },
  {
   "cell_type": "markdown",
   "id": "a541296b",
   "metadata": {},
   "source": [
    "Step 2: Clean the the Data!"
   ]
  },
  {
   "cell_type": "code",
   "execution_count": null,
   "id": "a034b9ba",
   "metadata": {},
   "outputs": [],
   "source": [
    "pd.df.dropna()"
   ]
  },
  {
   "cell_type": "code",
   "execution_count": 2,
   "id": "8a20deac",
   "metadata": {},
   "outputs": [
    {
     "ename": "NameError",
     "evalue": "name 'df' is not defined",
     "output_type": "error",
     "traceback": [
      "\u001b[0;31m---------------------------------------------------------------------------\u001b[0m",
      "\u001b[0;31mNameError\u001b[0m                                 Traceback (most recent call last)",
      "\u001b[0;32m/var/folders/w8/m_ncppfs7zn1plr9kwhx5lq80000gn/T/ipykernel_50502/3627053830.py\u001b[0m in \u001b[0;36m<module>\u001b[0;34m\u001b[0m\n\u001b[0;32m----> 1\u001b[0;31m \u001b[0mdf\u001b[0m\u001b[0;34m.\u001b[0m\u001b[0mdescribe\u001b[0m\u001b[0;34m(\u001b[0m\u001b[0;34m)\u001b[0m\u001b[0;34m\u001b[0m\u001b[0;34m\u001b[0m\u001b[0m\n\u001b[0m",
      "\u001b[0;31mNameError\u001b[0m: name 'df' is not defined"
     ]
    }
   ],
   "source": [
    "whatever we think of??"
   ]
  },
  {
   "cell_type": "markdown",
   "id": "a3956ccc",
   "metadata": {},
   "source": [
    "Step 3: Download data into CSV for Tableau!"
   ]
  },
  {
   "cell_type": "code",
   "execution_count": null,
   "id": "90bf1dd2",
   "metadata": {},
   "outputs": [],
   "source": []
  },
  {
   "cell_type": "code",
   "execution_count": null,
   "id": "5e8ad94f",
   "metadata": {},
   "outputs": [],
   "source": []
  },
  {
   "cell_type": "markdown",
   "id": "3e5a3242",
   "metadata": {},
   "source": [
    "Step 4a: Scale/Clean Data for machine learning"
   ]
  },
  {
   "cell_type": "code",
   "execution_count": null,
   "id": "c863cf86",
   "metadata": {},
   "outputs": [],
   "source": []
  },
  {
   "cell_type": "markdown",
   "id": "78de72e9",
   "metadata": {},
   "source": [
    "Step 4b: Maybe? basic visualizations to understand data"
   ]
  },
  {
   "cell_type": "code",
   "execution_count": null,
   "id": "56b694da",
   "metadata": {},
   "outputs": [],
   "source": []
  },
  {
   "cell_type": "markdown",
   "id": "e42e93c2",
   "metadata": {},
   "source": [
    "Step 4c: Linear Regressions"
   ]
  },
  {
   "cell_type": "code",
   "execution_count": null,
   "id": "0dabad59",
   "metadata": {},
   "outputs": [],
   "source": []
  },
  {
   "cell_type": "markdown",
   "id": "316db305",
   "metadata": {},
   "source": [
    "Step 4d: Random tree"
   ]
  },
  {
   "cell_type": "code",
   "execution_count": null,
   "id": "b976a316",
   "metadata": {},
   "outputs": [],
   "source": []
  },
  {
   "cell_type": "markdown",
   "id": "d069d4f4",
   "metadata": {},
   "source": [
    "Step 4e:Random Forest"
   ]
  },
  {
   "cell_type": "code",
   "execution_count": null,
   "id": "0e0ad6f8",
   "metadata": {},
   "outputs": [],
   "source": []
  },
  {
   "cell_type": "markdown",
   "id": "255fd063",
   "metadata": {},
   "source": [
    "Step 5: Analysis!"
   ]
  },
  {
   "cell_type": "code",
   "execution_count": null,
   "id": "0bcbe0b0",
   "metadata": {},
   "outputs": [],
   "source": []
  }
 ],
 "metadata": {
  "kernelspec": {
   "display_name": "Python 3 (ipykernel)",
   "language": "python",
   "name": "python3"
  },
  "language_info": {
   "codemirror_mode": {
    "name": "ipython",
    "version": 3
   },
   "file_extension": ".py",
   "mimetype": "text/x-python",
   "name": "python",
   "nbconvert_exporter": "python",
   "pygments_lexer": "ipython3",
   "version": "3.7.4"
  }
 },
 "nbformat": 4,
 "nbformat_minor": 5
}
